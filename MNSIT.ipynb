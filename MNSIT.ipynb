{
  "nbformat": 4,
  "nbformat_minor": 0,
  "metadata": {
    "colab": {
      "provenance": [],
      "authorship_tag": "ABX9TyOWX51tPZQncEhXwikurYRF",
      "include_colab_link": true
    },
    "kernelspec": {
      "name": "python3",
      "display_name": "Python 3"
    },
    "language_info": {
      "name": "python"
    }
  },
  "cells": [
    {
      "cell_type": "markdown",
      "metadata": {
        "id": "view-in-github",
        "colab_type": "text"
      },
      "source": [
        "<a href=\"https://colab.research.google.com/github/vaisiria/ml/blob/main/Untitled4.ipynb\" target=\"_parent\"><img src=\"https://colab.research.google.com/assets/colab-badge.svg\" alt=\"Open In Colab\"/></a>"
      ]
    },
    {
      "cell_type": "code",
      "execution_count": 1,
      "metadata": {
        "colab": {
          "base_uri": "https://localhost:8080/",
          "height": 669
        },
        "id": "niRc7heAPgr4",
        "outputId": "1f6a84e1-ed9d-444c-9078-56c24186e85f"
      },
      "outputs": [
        {
          "output_type": "stream",
          "name": "stdout",
          "text": [
            "Downloading data from https://storage.googleapis.com/tensorflow/tf-keras-datasets/mnist.npz\n",
            "\u001b[1m11490434/11490434\u001b[0m \u001b[32m━━━━━━━━━━━━━━━━━━━━\u001b[0m\u001b[37m\u001b[0m \u001b[1m0s\u001b[0m 0us/step\n",
            "✅ Binary Classification Results (0 vs Not 0):\n",
            "Accuracy: 0.9917\n",
            "\n",
            "Confusion Matrix:\n",
            " [[ 943   37]\n",
            " [  46 8974]]\n",
            "\n",
            "Classification Report:\n",
            "               precision    recall  f1-score   support\n",
            "\n",
            "     Digit 0       0.95      0.96      0.96       980\n",
            "       Not 0       1.00      0.99      1.00      9020\n",
            "\n",
            "    accuracy                           0.99     10000\n",
            "   macro avg       0.97      0.98      0.98     10000\n",
            "weighted avg       0.99      0.99      0.99     10000\n",
            "\n"
          ]
        },
        {
          "output_type": "display_data",
          "data": {
            "text/plain": [
              "<Figure size 1000x400 with 10 Axes>"
            ],
            "image/png": "[encoded data removed]"
          },
          "metadata": {}
        }
      ],
      "source": [
        "\n",
        "import numpy as np\n",
        "import matplotlib.pyplot as plt\n",
        "from sklearn.metrics import accuracy_score, confusion_matrix, classification_report\n",
        "from tensorflow.keras.datasets import mnist\n",
        "from sklearn.linear_model import LogisticRegression\n",
        "\n",
        "# Step 1: Load MNIST dataset\n",
        "(X_train, y_train), (X_test, y_test) = mnist.load_data()\n",
        "\n",
        "\n",
        "X_train = X_train.reshape(len(X_train), -1)\n",
        "X_test = X_test.reshape(len(X_test), -1)\n",
        "\n",
        "\n",
        "y_train_binary = np.where(y_train == 0, 0, 1)\n",
        "y_test_binary = np.where(y_test == 0, 0, 1)\n",
        "\n",
        "\n",
        "X_train = X_train / 255.0\n",
        "X_test = X_test / 255.0\n",
        "\n",
        "\n",
        "model = LogisticRegression(max_iter=1000)\n",
        "model.fit(X_train, y_train_binary)\n",
        "\n",
        "\n",
        "y_pred = model.predict(X_test)\n",
        "\n",
        "\n",
        "accuracy = accuracy_score(y_test_binary, y_pred)\n",
        "conf_matrix = confusion_matrix(y_test_binary, y_pred)\n",
        "report = classification_report(y_test_binary, y_pred, target_names=[\"Digit 0\", \"Not 0\"])\n",
        "\n",
        "\n",
        "print(\"✅ Binary Classification Results (0 vs Not 0):\")\n",
        "print(\"Accuracy:\", round(accuracy, 4))\n",
        "print(\"\\nConfusion Matrix:\\n\", conf_matrix)\n",
        "print(\"\\nClassification Report:\\n\", report)\n",
        "\n",
        "\n",
        "fig, axes = plt.subplots(2, 5, figsize=(10, 4))\n",
        "for i, ax in enumerate(axes.flat):\n",
        "    ax.imshow(X_test[i].reshape(28, 28), cmap='gray')\n",
        "    ax.set_title(f\"Pred: {y_pred[i]} | True: {y_test_binary[i]}\")\n",
        "    ax.axis('off')\n",
        "plt.tight_layout()\n",
        "plt.show()\n"
      ]
    }
  ]
}
